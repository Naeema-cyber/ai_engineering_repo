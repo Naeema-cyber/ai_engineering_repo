{
 "cells": [
  {
   "cell_type": "markdown",
   "id": "e10363de",
   "metadata": {},
   "source": [
    "### **Understanding Numpy**"
   ]
  },
  {
   "cell_type": "markdown",
   "id": "073db019",
   "metadata": {},
   "source": [
    "- Numpy (Numerical Python) is the foundation library for scientific computing in python. It provides N-dimensional array object and tools for working with these arrays.\n",
    "- Think of NumPy as the engine that powers most data science libraries - pandas uses NumPy arrarys internally, scikit-learn expects NumPy arrays for machine learning, and matplotlib uses NumPy for plotting.\n",
    "- NumPy operations are implemented in C, making them 10-100x faster than pure Python.\n",
    "- NumPy arrays store data more compactly than python lists.\n",
    "- Vectorization: Perform operations on entire arrays without writing loops.\n",
    "- Work with arrays of different shapes seamlessly.\n",
    "- Foundation for pandas, scikit-learn, matplotlib, and more."
   ]
  },
  {
   "cell_type": "code",
   "execution_count": 2,
   "id": "d7e7c1ae",
   "metadata": {},
   "outputs": [
    {
     "name": "stdout",
     "output_type": "stream",
     "text": [
      "Numpy version: 2.3.2\n"
     ]
    }
   ],
   "source": [
    "# import all necessary libraries\n",
    "\n",
    "import numpy as np\n",
    "import matplotlib.pyplot as plt\n",
    "import time\n",
    "\n",
    "# Check NumPy version \n",
    "print(f\"Numpy version: {np.__version__}\")\n",
    "\n",
    "# Display settings for cleaner output\n",
    "np.set_printoptions(precision=3, suppress=True)\n"
   ]
  },
  {
   "cell_type": "markdown",
   "id": "ed715113",
   "metadata": {},
   "source": [
    "* Creating Numpy Arrays"
   ]
  },
  {
   "cell_type": "code",
   "execution_count": 3,
   "id": "a630176d",
   "metadata": {},
   "outputs": [
    {
     "name": "stdout",
     "output_type": "stream",
     "text": [
      "1D arrays: [1 2 3 4 5]\n",
      "2D array:\n",
      " [[1 2 3]\n",
      " [4 5 6]]\n",
      "3D array:\n",
      " [[[1 2]\n",
      "  [3 4]]\n",
      "\n",
      " [[5 6]\n",
      "  [7 8]]]\n"
     ]
    }
   ],
   "source": [
    "# Creating arrays from python lists\n",
    "# 1D array: A simple sequence of numbers\n",
    "arr1d = np.array([1, 2, 3, 4, 5])\n",
    "\n",
    "# 2D array: Think of this as a matrix or table with rows and columns\n",
    "arr2d = np.array([[1,2,3],\n",
    "                  [4,5,6]])\n",
    "\n",
    "# 3D array: Like a stack of 2D arrays - useful for images, time series, etc.\n",
    "arr3d = np.array([[[1, 2], [3, 4]],\n",
    "                  [[5,6], [7, 8]]])\n",
    "\n",
    "print(\"1D arrays:\", arr1d)\n",
    "print(\"2D array:\\n\", arr2d)\n",
    "print(\"3D array:\\n\", arr3d)"
   ]
  },
  {
   "cell_type": "markdown",
   "id": "5d6282ba",
   "metadata": {},
   "source": [
    "#### Creating Special Arrays in Numpy"
   ]
  },
  {
   "cell_type": "code",
   "execution_count": 4,
   "id": "8f9076ff",
   "metadata": {},
   "outputs": [
    {
     "name": "stdout",
     "output_type": "stream",
     "text": [
      "Zeros array (3x4):\n",
      " [[0. 0. 0. 0.]\n",
      " [0. 0. 0. 0.]\n",
      " [0. 0. 0. 0.]]\n",
      "Ones array shape: (2, 3, 4)\n",
      "Empty array (contains random values):\n",
      " [[0. 0.]\n",
      " [0. 0.]]\n"
     ]
    }
   ],
   "source": [
    "# Creating arrays filled with zeros - useful for initializing arrays\n",
    "zeros = np.zeros((3,4))\n",
    "\n",
    "# Creating arrays filled with ones - often used as starting points\n",
    "ones = np.ones((2, 3, 4))   # 3D array: 2 layers, 3 rows, 4 columns\n",
    "\n",
    "# Empty array - faster than zeros/ones but contains random values\n",
    "empty = np.empty((2, 2))\n",
    "\n",
    "print(\"Zeros array (3x4):\\n\", zeros) \n",
    "print(\"Ones array shape:\", ones.shape)\n",
    "print(\"Empty array (contains random values):\\n\", empty)"
   ]
  },
  {
   "cell_type": "code",
   "execution_count": 5,
   "id": "9fe8f3fa",
   "metadata": {},
   "outputs": [
    {
     "name": "stdout",
     "output_type": "stream",
     "text": [
      "Range array: [0 2 4 6 8]\n",
      "Linspace array: [0.   0.25 0.5  0.75 1.  ]\n",
      "Logspace array: [  1.      3.162  10.     31.623 100.   ]\n"
     ]
    }
   ],
   "source": [
    "# Range arrays - like python's range() but more powerful\n",
    "range_arr = np.arange(0, 10, 2)\n",
    "print(\"Range array:\", range_arr)\n",
    "\n",
    "# Linearly spaced arrays\n",
    "linspace_arr = np.linspace(0, 1, 5)\n",
    "print(\"Linspace array:\", linspace_arr)\n",
    "\n",
    "# Logarithmically spaced arrays\n",
    "logspace_arr = np.logspace(0, 2, 5)\n",
    "print(\"Logspace array:\", logspace_arr)"
   ]
  },
  {
   "cell_type": "code",
   "execution_count": 6,
   "id": "bcf2ddde",
   "metadata": {},
   "outputs": [
    {
     "name": "stdout",
     "output_type": "stream",
     "text": [
      "Identity matrix:\n",
      " [[1. 0. 0. 0.]\n",
      " [0. 1. 0. 0.]\n",
      " [0. 0. 1. 0.]\n",
      " [0. 0. 0. 1.]]\n",
      "Diagonal matrix:\n",
      " [[1 0 0 0]\n",
      " [0 2 0 0]\n",
      " [0 0 3 0]\n",
      " [0 0 0 4]]\n",
      "Full array (filled with 7):\n",
      " [[7 7 7]\n",
      " [7 7 7]\n",
      " [7 7 7]]\n"
     ]
    }
   ],
   "source": [
    "identity = np.eye(4)\n",
    "diagonal = np.diag([1, 2, 3, 4])\n",
    "full_arr = np.full((3, 3), 7)\n",
    "\n",
    "print(\"Identity matrix:\\n\", identity)\n",
    "print(\"Diagonal matrix:\\n\", diagonal)\n",
    "print(\"Full array (filled with 7):\\n\", full_arr)"
   ]
  },
  {
   "cell_type": "markdown",
   "id": "798627a9",
   "metadata": {},
   "source": [
    "#### Numpy Data Types (dtypes)"
   ]
  },
  {
   "cell_type": "code",
   "execution_count": 7,
   "id": "86f0932d",
   "metadata": {},
   "outputs": [
    {
     "name": "stdout",
     "output_type": "stream",
     "text": [
      "Integer array dtype: int32\n",
      "Float array dtype: float64\n",
      "Boolean array dtype: bool\n",
      "Converted array dtype: float32\n",
      "int32 uses 4 bytes per element\n",
      "float64 uses 8 bytes per element\n"
     ]
    }
   ],
   "source": [
    "int_arr = np.array([1, 2, 3], dtype=np.int32)\n",
    "float_arr = np.array([1, 2, 3], dtype=np.float64)\n",
    "bool_arr = np.array([True, False, True], dtype=np.bool_)\n",
    "converted = int_arr.astype(np.float32)\n",
    "\n",
    "print(\"Integer array dtype:\", int_arr.dtype)\n",
    "print(\"Float array dtype:\", float_arr.dtype)\n",
    "print(\"Boolean array dtype:\", bool_arr.dtype)\n",
    "print(\"Converted array dtype:\", converted.dtype)\n",
    "\n",
    "print(f\"int32 uses {int_arr.itemsize} bytes per element\")\n",
    "print(f\"float64 uses {float_arr.itemsize} bytes per element\")"
   ]
  },
  {
   "cell_type": "markdown",
   "id": "f7bee539",
   "metadata": {},
   "source": [
    "#### Array Properties & Attributes\n",
    "- Understanding array properties helps you work effectively with your data and debug issues"
   ]
  },
  {
   "cell_type": "code",
   "execution_count": 8,
   "id": "cb1e8d28",
   "metadata": {},
   "outputs": [
    {
     "name": "stdout",
     "output_type": "stream",
     "text": [
      "Shape: (3, 4, 5)\n",
      "Size: 60\n",
      "Ndim: 3\n",
      "Dtype: float64\n",
      "Itemsize: 8\n",
      "Memory usage: 480 bytes\n",
      "Memory usage: 0.46875 KB\n"
     ]
    }
   ],
   "source": [
    "# Create a sample 3D array for demonstration\n",
    "arr = np.random.randn(3, 4, 5)\n",
    "print(\"Shape:\", arr.shape)\n",
    "print(\"Size:\", arr.size)\n",
    "print(\"Ndim:\", arr.ndim)\n",
    "print(\"Dtype:\", arr.dtype)          \n",
    "print(\"Itemsize:\", arr.itemsize)     \n",
    "\n",
    "# Total memory usage in bytes\n",
    "print(\"Memory usage:\", arr.nbytes, \"bytes\")  \n",
    "print(\"Memory usage:\", arr.nbytes / 1024, \"KB\")  # Convert to KB"
   ]
  },
  {
   "cell_type": "markdown",
   "id": "2d622498",
   "metadata": {},
   "source": [
    "These properties are essential for understanding your data's structure and memory requirements. Large datasets require careful attention to memory usage."
   ]
  },
  {
   "cell_type": "markdown",
   "id": "431dd374",
   "metadata": {},
   "source": [
    "**Array Indexing & Slicing**"
   ]
  },
  {
   "cell_type": "markdown",
   "id": "20047cb2",
   "metadata": {},
   "source": [
    " **Basic Indexing - Accessing Individual Elements**\n",
    "\n",
    "- NumPy indexing is similar to Python lists but more powerful for multi-dimensional arrays"
   ]
  },
  {
   "cell_type": "code",
   "execution_count": 9,
   "id": "975f0153",
   "metadata": {},
   "outputs": [
    {
     "name": "stdout",
     "output_type": "stream",
     "text": [
      "First element: 10\n",
      "Last element: 50\n",
      "Slice [1:4]: [20 30 40]\n",
      "Every 2nd element: [10 30 50]\n"
     ]
    }
   ],
   "source": [
    "# 1D array indexing - similar to Python lists\n",
    "arr1d = np.array([10, 20, 30, 40, 50])\n",
    "\n",
    "print(\"First element:\", arr1d[0])     # Index 0: 10\n",
    "print(\"Last element:\", arr1d[-1])     # Negative indexing: 50  \n",
    "print(\"Slice [1:4]:\", arr1d[1:4])     # Elements 1, 2, 3: [20, 30, 40]\n",
    "print(\"Every 2nd element:\", arr1d[::2])  # Step of 2: [10, 30, 50]"
   ]
  },
  {
   "cell_type": "markdown",
   "id": "ef43e12a",
   "metadata": {},
   "source": [
    "Negative indices count from the end (-1 is last element). Slicing uses [start:stop:step] where stop is exclusive."
   ]
  },
  {
   "cell_type": "code",
   "execution_count": 10,
   "id": "389aa3f7",
   "metadata": {},
   "outputs": [
    {
     "name": "stdout",
     "output_type": "stream",
     "text": [
      "Element at row 1, column 2: 7\n",
      "First row: [1 2 3 4]\n",
      "Second column: [ 2  6 10]\n",
      "Subarray (rows 1-2, cols 1-2):\n",
      " [[ 6  7]\n",
      " [10 11]]\n"
     ]
    }
   ],
   "source": [
    "# 2D array indexing - row and column access\n",
    "arr2d = np.array([[1, 2, 3, 4],\n",
    "                  [5, 6, 7, 8],\n",
    "                  [9, 10, 11, 12]])\n",
    "\n",
    "# Access specific element: [row, column]\n",
    "print(\"Element at row 1, column 2:\", arr2d[1, 2])        # 7\n",
    "\n",
    "# Access entire rows or columns\n",
    "print(\"First row:\", arr2d[0, :])               # All columns of row 0\n",
    "print(\"Second column:\", arr2d[:, 1])           # All rows of column 1\n",
    "\n",
    "# Subarray slicing: [row_start:row_end, col_start:col_end]\n",
    "print(\"Subarray (rows 1-2, cols 1-2):\\n\", arr2d[1:3, 1:3])"
   ]
  },
  {
   "cell_type": "markdown",
   "id": "67d6e81f",
   "metadata": {},
   "source": [
    "The comma separates dimensions. : means \"all elements along this dimension\". Slicing creates views of the original data when possible, not copies."
   ]
  },
  {
   "cell_type": "markdown",
   "id": "bb5e5e20",
   "metadata": {},
   "source": [
    "**Advanced Indexing - Powerful Selection Methods**"
   ]
  },
  {
   "cell_type": "code",
   "execution_count": 11,
   "id": "98a956e4",
   "metadata": {},
   "outputs": [
    {
     "name": "stdout",
     "output_type": "stream",
     "text": [
      "Fancy indexing: [10 30 50]\n",
      "Random order: [50 20 40 20]\n"
     ]
    }
   ],
   "source": [
    "# Fancy indexing - use arrays of indices to select elements\n",
    "arr = np.array([10, 20, 30, 40, 50])\n",
    "indices = np.array([0, 2, 4])  # Select elements at positions 0, 2, 4\n",
    "print(\"Fancy indexing:\", arr[indices])         # [10, 30, 50]\n",
    "\n",
    "# This is much more flexible than simple slicing\n",
    "random_indices = np.array([4, 1, 3, 1])  # Can repeat and reorder\n",
    "print(\"Random order:\", arr[random_indices])   # [50, 20, 40, 20]"
   ]
  },
  {
   "cell_type": "markdown",
   "id": "1490269b",
   "metadata": {},
   "source": [
    "Fancy indexing lets you select elements in any order, repeat elements, and select non-contiguous elements. Very useful for data sampling and reordering."
   ]
  },
  {
   "cell_type": "code",
   "execution_count": 12,
   "id": "eae6088f",
   "metadata": {},
   "outputs": [
    {
     "name": "stdout",
     "output_type": "stream",
     "text": [
      "Original 2D array:\n",
      " [[ 0  1  2  3]\n",
      " [ 4  5  6  7]\n",
      " [ 8  9 10 11]]\n",
      "Elements at (0,1) and (2,3): [ 1 11]\n",
      "Selected rows:\n",
      " [[ 0  1  2  3]\n",
      " [ 8  9 10 11]]\n"
     ]
    }
   ],
   "source": [
    "# 2D fancy indexing - select specific row/column combinations\n",
    "arr2d = np.arange(12).reshape(3, 4)  # 3x4 array: [[0,1,2,3], [4,5,6,7], [8,9,10,11]]\n",
    "print(\"Original 2D array:\\n\", arr2d)\n",
    "\n",
    "# Select elements at (row, col) pairs: (0,1) and (2,3)\n",
    "rows = np.array([0, 2])\n",
    "cols = np.array([1, 3])\n",
    "print(\"Elements at (0,1) and (2,3):\", arr2d[rows, cols])  # [1, 11]\n",
    "\n",
    "# Select entire rows using fancy indexing\n",
    "selected_rows = arr2d[[0, 2], :]  # Rows 0 and 2, all columns\n",
    "print(\"Selected rows:\\n\", selected_rows)"
   ]
  },
  {
   "cell_type": "markdown",
   "id": "362aa282",
   "metadata": {},
   "source": [
    "When you provide arrays for both dimensions, NumPy pairs them element-wise. This is different from slicing, which creates a rectangular subarray."
   ]
  },
  {
   "cell_type": "markdown",
   "id": "bea3e428",
   "metadata": {},
   "source": [
    "**Array Reshaping & Manipulation**\n",
    "\n",
    "- Reshaping changes how the same data is organized in memory without changing the actual values."
   ]
  },
  {
   "cell_type": "code",
   "execution_count": 13,
   "id": "1aa65e6a",
   "metadata": {},
   "outputs": [
    {
     "name": "stdout",
     "output_type": "stream",
     "text": [
      "Original 1D array: [ 0  1  2  3  4  5  6  7  8  9 10 11]\n",
      "Reshaped to 3x4:\n",
      " [[ 0  1  2  3]\n",
      " [ 4  5  6  7]\n",
      " [ 8  9 10 11]]\n",
      "Reshaped to 2x2x3:\n",
      " [[[ 0  1  2]\n",
      "  [ 3  4  5]]\n",
      "\n",
      " [[ 6  7  8]\n",
      "  [ 9 10 11]]]\n",
      "Auto-reshaped to 4x?:\n",
      " [[ 0  1  2]\n",
      " [ 3  4  5]\n",
      " [ 6  7  8]\n",
      " [ 9 10 11]]\n"
     ]
    }
   ],
   "source": [
    "# Start with a 1D array\n",
    "arr = np.arange(12)  # [0, 1, 2, 3, 4, 5, 6, 7, 8, 9, 10, 11]\n",
    "print(\"Original 1D array:\", arr)\n",
    "\n",
    "# Reshape to 2D: 3 rows × 4 columns\n",
    "reshaped_2d = arr.reshape(3, 4)\n",
    "print(\"Reshaped to 3x4:\\n\", reshaped_2d)\n",
    "\n",
    "# Reshape to 3D: 2 layers × 2 rows × 3 columns  \n",
    "reshaped_3d = arr.reshape(2, 2, 3)\n",
    "print(\"Reshaped to 2x2x3:\\n\", reshaped_3d)\n",
    "\n",
    "# Use -1 to let NumPy calculate one dimension automatically\n",
    "auto_reshape = arr.reshape(4, -1)  # 4 rows, NumPy calculates columns\n",
    "print(\"Auto-reshaped to 4x?:\\n\", auto_reshape)"
   ]
  },
  {
   "cell_type": "markdown",
   "id": "c19c4242",
   "metadata": {},
   "source": [
    "The total number of elements must remain the same (12 in this case). Using -1 tells NumPy to calculate that dimension automatically. Reshaping creates a view when possible, not a copy"
   ]
  },
  {
   "cell_type": "code",
   "execution_count": 14,
   "id": "ef7a7d95",
   "metadata": {},
   "outputs": [
    {
     "name": "stdout",
     "output_type": "stream",
     "text": [
      "Flattened (copy): [1 2 3 4 5 6]\n",
      "Ravel (view if possible): [1 2 3 4 5 6]\n",
      "After modifying original:\n",
      "Flattened (unchanged): [1 2 3 4 5 6]\n",
      "Ravel (changed): [999   2   3   4   5   6]\n"
     ]
    }
   ],
   "source": [
    "# Flattening - convert multi-dimensional array to 1D\n",
    "arr2d = np.array([[1, 2, 3], [4, 5, 6]])\n",
    "\n",
    "# flatten() always returns a copy\n",
    "flattened = arr2d.flatten()                 \n",
    "print(\"Flattened (copy):\", flattened)\n",
    "\n",
    "# ravel() returns a view if possible (faster, memory efficient)\n",
    "ravel = arr2d.ravel()                       \n",
    "print(\"Ravel (view if possible):\", ravel)\n",
    "\n",
    "# Demonstrate the difference\n",
    "arr2d[0, 0] = 999\n",
    "print(\"After modifying original:\")\n",
    "print(\"Flattened (unchanged):\", flattened)  # Copy is independent\n",
    "print(\"Ravel (changed):\", ravel)  "
   ]
  },
  {
   "cell_type": "markdown",
   "id": "b34780e6",
   "metadata": {},
   "source": [
    "Use ravel() when you don't need to modify the flattened array independently. Use flatten() when you need a separate copy that won't be affected by changes to the original."
   ]
  },
  {
   "cell_type": "markdown",
   "id": "91a8d276",
   "metadata": {},
   "source": [
    "**Transposing and Swapping Axes**\n",
    "\n",
    " - Transposing is essential for matrix operations and changing data orientation"
   ]
  },
  {
   "cell_type": "code",
   "execution_count": 15,
   "id": "56fdbd5e",
   "metadata": {},
   "outputs": [
    {
     "name": "stdout",
     "output_type": "stream",
     "text": [
      "Original shape: (2, 3)\n",
      "Original:\n",
      " [[1 2 3]\n",
      " [4 5 6]]\n",
      "Transposed shape: (3, 2)\n",
      "Transposed:\n",
      " [[1 4]\n",
      " [2 5]\n",
      " [3 6]]\n",
      "Transpose method:\n",
      " [[1 4]\n",
      " [2 5]\n",
      " [3 6]]\n"
     ]
    }
   ],
   "source": [
    "# 2D transposition - flip rows and columns\n",
    "arr2d = np.array([[1, 2, 3], \n",
    "                  [4, 5, 6]])\n",
    "print(\"Original shape:\", arr2d.shape)      # (2, 3)\n",
    "print(\"Original:\\n\", arr2d)\n",
    "\n",
    "print(\"Transposed shape:\", arr2d.T.shape)   # (3, 2)\n",
    "print(\"Transposed:\\n\", arr2d.T)\n",
    "\n",
    "# Alternative transpose methods\n",
    "print(\"Transpose method:\\n\", arr2d.transpose())"
   ]
  },
  {
   "cell_type": "markdown",
   "id": "a2978d1a",
   "metadata": {},
   "source": [
    "Transposing swaps rows and columns. This is crucial for matrix multiplication and when you need to change data orientation (e.g., from samples×features to features×samples)"
   ]
  },
  {
   "cell_type": "code",
   "execution_count": 16,
   "id": "6c0be72e",
   "metadata": {},
   "outputs": [
    {
     "name": "stdout",
     "output_type": "stream",
     "text": [
      "Original 3D shape: (2, 3, 4)\n",
      "Transposed 3D shape: (4, 2, 3)\n",
      "Moveaxis result shape: (3, 4, 2)\n"
     ]
    }
   ],
   "source": [
    "# Higher-dimensional transposition\n",
    "arr3d = np.arange(24).reshape(2, 3, 4)  # 2 layers, 3 rows, 4 columns\n",
    "print(\"Original 3D shape:\", arr3d.shape)\n",
    "\n",
    "# Specify new axis order: (axis0, axis1, axis2) → (axis2, axis0, axis1)\n",
    "transposed_3d = arr3d.transpose(2, 0, 1)\n",
    "print(\"Transposed 3D shape:\", transposed_3d.shape)  # (4, 2, 3)\n",
    "\n",
    "# moveaxis is another way to rearrange axes\n",
    "moved = np.moveaxis(arr3d, 0, -1)  # Move first axis to last position\n",
    "print(\"Moveaxis result shape:\", moved.shape)"
   ]
  },
  {
   "cell_type": "markdown",
   "id": "9974a375",
   "metadata": {},
   "source": [
    "For 3D+ arrays, you specify the new order of axes. This is useful for reshaping data for different algorithms or visualization requirements."
   ]
  },
  {
   "cell_type": "markdown",
   "id": "24009672",
   "metadata": {},
   "source": [
    "**Concatenating and Splitting Arrays**\n",
    "\n",
    "- Combining and dividing arrays is fundamental for data manipulation"
   ]
  },
  {
   "cell_type": "code",
   "execution_count": 17,
   "id": "3f523949",
   "metadata": {},
   "outputs": [
    {
     "name": "stdout",
     "output_type": "stream",
     "text": [
      "Original arrays:\n",
      "Array 1:\n",
      " [[1 2]\n",
      " [3 4]]\n",
      "Array 2:\n",
      " [[5 6]\n",
      " [7 8]]\n",
      "Concatenated vertically (axis=0):\n",
      " [[1 2]\n",
      " [3 4]\n",
      " [5 6]\n",
      " [7 8]]\n",
      "Concatenated horizontally (axis=1):\n",
      " [[1 2 5 6]\n",
      " [3 4 7 8]]\n"
     ]
    }
   ],
   "source": [
    "# Concatenation - joining arrays along existing axes\n",
    "arr1 = np.array([[1, 2], [3, 4]])\n",
    "arr2 = np.array([[5, 6], [7, 8]])\n",
    "\n",
    "# Concatenate along different axes\n",
    "concat_rows = np.concatenate([arr1, arr2], axis=0)    # Stack vertically (add rows)\n",
    "concat_cols = np.concatenate([arr1, arr2], axis=1)    # Stack horizontally (add columns)\n",
    "\n",
    "print(\"Original arrays:\")\n",
    "print(\"Array 1:\\n\", arr1)\n",
    "print(\"Array 2:\\n\", arr2)\n",
    "print(\"Concatenated vertically (axis=0):\\n\", concat_rows)\n",
    "print(\"Concatenated horizontally (axis=1):\\n\", concat_cols)"
   ]
  },
  {
   "cell_type": "markdown",
   "id": "e3752356",
   "metadata": {},
   "source": [
    "`axis=0` means along rows (vertical stacking), `axis=1` means along columns (horizontal stacking). Arrays must have compatible shapes along the non-concatenated dimensions."
   ]
  },
  {
   "cell_type": "code",
   "execution_count": 18,
   "id": "7f38584c",
   "metadata": {},
   "outputs": [
    {
     "name": "stdout",
     "output_type": "stream",
     "text": [
      "vstack (vertical):\n",
      " [[1 2]\n",
      " [3 4]\n",
      " [5 6]\n",
      " [7 8]]\n",
      "hstack (horizontal):\n",
      " [[1 2 5 6]\n",
      " [3 4 7 8]]\n",
      "dstack shape: (2, 2, 2)\n",
      "Original array for splitting:\n",
      " [[ 0  1  2  3]\n",
      " [ 4  5  6  7]\n",
      " [ 8  9 10 11]]\n",
      "Split into 3 parts along rows:\n",
      "Part 0:\n",
      " [[0 1 2 3]]\n",
      "Part 1:\n",
      " [[4 5 6 7]]\n",
      "Part 2:\n",
      " [[ 8  9 10 11]]\n"
     ]
    }
   ],
   "source": [
    "# Convenient stacking functions\n",
    "vstack_result = np.vstack([arr1, arr2])     # Same as concatenate with axis=0\n",
    "hstack_result = np.hstack([arr1, arr2])     # Same as concatenate with axis=1\n",
    "dstack_result = np.dstack([arr1, arr2])     # Stack along depth (3rd dimension)\n",
    "\n",
    "print(\"vstack (vertical):\\n\", vstack_result)\n",
    "print(\"hstack (horizontal):\\n\", hstack_result)\n",
    "print(\"dstack shape:\", dstack_result.shape)  # Creates 3D array\n",
    "\n",
    "# Splitting arrays - opposite of concatenation\n",
    "arr = np.arange(12).reshape(3, 4)\n",
    "split_arrays = np.split(arr, 3, axis=0)        # Split into 3 parts along rows\n",
    "print(\"Original array for splitting:\\n\", arr)\n",
    "print(\"Split into 3 parts along rows:\")\n",
    "for i, split_part in enumerate(split_arrays):\n",
    "    print(f\"Part {i}:\\n\", split_part)"
   ]
  },
  {
   "cell_type": "markdown",
   "id": "80983f40",
   "metadata": {},
   "source": [
    "Stacking functions are shortcuts for concatenation. Splitting divides an array into equal parts - useful for creating training/validation sets or processing data in chunks."
   ]
  },
  {
   "cell_type": "markdown",
   "id": "f48ff780",
   "metadata": {},
   "source": [
    "**Mathematical Operations**"
   ]
  },
  {
   "cell_type": "markdown",
   "id": "703c7f04",
   "metadata": {},
   "source": [
    "**Element-wise Operations - The Power of Vectorization**\n",
    "\n",
    "- NumPy's biggest advantage is performing operations on entire arrays without writing loo"
   ]
  },
  {
   "cell_type": "code",
   "execution_count": 19,
   "id": "83fd34ee",
   "metadata": {},
   "outputs": [
    {
     "name": "stdout",
     "output_type": "stream",
     "text": [
      "Array 1: [1 2 3 4]\n",
      "Array 2: [10 20 30 40]\n",
      "Addition: [11 22 33 44]\n",
      "Subtraction: [ 9 18 27 36]\n",
      "Multiplication: [ 10  40  90 160]\n",
      "Division: [10. 10. 10. 10.]\n",
      "Power: [ 1  4  9 16]\n",
      "Modulo: [1 2 0 1]\n"
     ]
    }
   ],
   "source": [
    "# Basic arithmetic operations work element-by-element\n",
    "arr1 = np.array([1, 2, 3, 4])\n",
    "arr2 = np.array([10, 20, 30, 40])\n",
    "\n",
    "print(\"Array 1:\", arr1)\n",
    "print(\"Array 2:\", arr2)\n",
    "\n",
    "# All operations happen element-wise automatically\n",
    "print(\"Addition:\", arr1 + arr2)               # [11, 22, 33, 44]\n",
    "print(\"Subtraction:\", arr2 - arr1)            # [9, 18, 27, 36]\n",
    "print(\"Multiplication:\", arr1 * arr2)         # [10, 40, 90, 160]\n",
    "print(\"Division:\", arr2 / arr1)               # [10, 10, 10, 10]\n",
    "print(\"Power:\", arr1 ** 2)                    # [1, 4, 9, 16]\n",
    "print(\"Modulo:\", arr2 % 3)    "
   ]
  },
  {
   "cell_type": "markdown",
   "id": "c32e7d3e",
   "metadata": {},
   "source": [
    "This vectorization is much faster than Python loops because the operations are implemented in optimized C code. Each operation applies to corresponding elements."
   ]
  },
  {
   "cell_type": "code",
   "execution_count": 20,
   "id": "3a280216",
   "metadata": {},
   "outputs": [
    {
     "name": "stdout",
     "output_type": "stream",
     "text": [
      "Scalar operations:\n",
      "Add 10 to all elements: [11 12 13 14]\n",
      "Multiply all by 3: [ 3  6  9 12]\n",
      "Divide all by 2: [0.5 1.  1.5 2. ]\n",
      "Compound operation (arr1 + 5) * 2 - 1: [11 13 15 17]\n"
     ]
    }
   ],
   "source": [
    "# Operations with scalars - broadcasting in action\n",
    "print(\"Scalar operations:\")\n",
    "print(\"Add 10 to all elements:\", arr1 + 10)          # [11, 12, 13, 14]\n",
    "print(\"Multiply all by 3:\", arr1 * 3)               # [3, 6, 9, 12]\n",
    "print(\"Divide all by 2:\", arr1 / 2)                 # [0.5, 1, 1.5, 2]\n",
    "\n",
    "# Compound operations\n",
    "result = (arr1 + 5) * 2 - 1                         # ((arr1 + 5) * 2) - 1\n",
    "print(\"Compound operation (arr1 + 5) * 2 - 1:\", result)"
   ]
  },
  {
   "cell_type": "markdown",
   "id": "6869ba06",
   "metadata": {},
   "source": [
    "When you operate on arrays with scalars, the scalar is automatically \"broadcast\" to match the array shape. This is much more readable and efficient than manual loops"
   ]
  },
  {
   "cell_type": "markdown",
   "id": "1bab0d7c",
   "metadata": {},
   "source": [
    "**Mathematical Functions - Beyond Basic Arithmetic**\n",
    "\n",
    "- NumPy provides vectorized versions of most mathematical function"
   ]
  },
  {
   "cell_type": "code",
   "execution_count": 21,
   "id": "6e2af012",
   "metadata": {},
   "outputs": [
    {
     "name": "stdout",
     "output_type": "stream",
     "text": [
      "Original array: [ 1  4  9 16 25]\n",
      "Square root: [1. 2. 3. 4. 5.]\n",
      "Square: [  1  16  81 256 625]\n",
      "Cube root: [1.    1.587 2.08  2.52  2.924]\n",
      "Exponential: [ 2.718  7.389 20.086]\n",
      "Natural log: [0.    1.386 2.197 2.773 3.219]\n",
      "Log base 10: [0.    0.602 0.954 1.204 1.398]\n",
      "Log base 2: [0.    2.    3.17  4.    4.644]\n"
     ]
    }
   ],
   "source": [
    "# Common mathematical functions\n",
    "arr = np.array([1, 4, 9, 16, 25])\n",
    "print(\"Original array:\", arr)\n",
    "\n",
    "# Square roots and powers\n",
    "print(\"Square root:\", np.sqrt(arr))           # [1, 2, 3, 4, 5]\n",
    "print(\"Square:\", np.square(arr))              # [1, 16, 81, 256, 625]\n",
    "print(\"Cube root:\", np.cbrt(arr))\n",
    "\n",
    "# Exponential and logarithmic functions\n",
    "small_arr = np.array([1, 2, 3])\n",
    "print(\"Exponential:\", np.exp(small_arr))      # [e^1, e^2, e^3]\n",
    "print(\"Natural log:\", np.log(arr))            # ln(arr)\n",
    "print(\"Log base 10:\", np.log10(arr))\n",
    "print(\"Log base 2:\", np.log2(arr))"
   ]
  },
  {
   "cell_type": "markdown",
   "id": "b08b5aaf",
   "metadata": {},
   "source": [
    "These functions are much faster than applying Python's math functions in a loop. They also handle edge cases (like log of zero) more gracefully."
   ]
  }
 ],
 "metadata": {
  "kernelspec": {
   "display_name": "my_venv (3.13.7)",
   "language": "python",
   "name": "python3"
  },
  "language_info": {
   "codemirror_mode": {
    "name": "ipython",
    "version": 3
   },
   "file_extension": ".py",
   "mimetype": "text/x-python",
   "name": "python",
   "nbconvert_exporter": "python",
   "pygments_lexer": "ipython3",
   "version": "3.13.7"
  }
 },
 "nbformat": 4,
 "nbformat_minor": 5
}
