{
 "cells": [
  {
   "cell_type": "code",
   "execution_count": 1,
   "id": "417290e7",
   "metadata": {},
   "outputs": [],
   "source": [
    "import pandas as pd\n"
   ]
  },
  {
   "cell_type": "code",
   "execution_count": 6,
   "id": "e5ca91cd",
   "metadata": {},
   "outputs": [
    {
     "name": "stdout",
     "output_type": "stream",
     "text": [
      "Happy birthday Nala. You are 1 year old today.\n"
     ]
    }
   ],
   "source": [
    "class pet:\n",
    "    def __init__(self, name, species, age):\n",
    "        self.name = name\n",
    "        self.species = species\n",
    "        self.age = age\n",
    "\n",
    "\n",
    "Pet = pet('Nala','bengal',1) \n",
    "\n",
    "class greeting:\n",
    "    def __init__(self,greet):\n",
    "        self.greet = greet\n",
    "        \n",
    "greets =greeting(\"Happy birthday\")\n",
    "\n",
    "print(f\"{greets.greet} {Pet.name}. You are {Pet.age} year old today.\")\n",
    "\n",
    "\n",
    "  "
   ]
  }
 ],
 "metadata": {
  "kernelspec": {
   "display_name": "backvenv (3.13.8)",
   "language": "python",
   "name": "python3"
  },
  "language_info": {
   "codemirror_mode": {
    "name": "ipython",
    "version": 3
   },
   "file_extension": ".py",
   "mimetype": "text/x-python",
   "name": "python",
   "nbconvert_exporter": "python",
   "pygments_lexer": "ipython3",
   "version": "3.13.8"
  }
 },
 "nbformat": 4,
 "nbformat_minor": 5
}
