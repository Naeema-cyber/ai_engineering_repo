{
 "cells": [
  {
   "cell_type": "code",
   "execution_count": 1,
   "id": "cdd44811",
   "metadata": {},
   "outputs": [],
   "source": [
    "from pydantic import BaseModel, Field, field_validator, ValidationError, EmailStr\n",
    "from decimal import Decimal\n"
   ]
  },
  {
   "cell_type": "code",
   "execution_count": 2,
   "id": "c4db82b2",
   "metadata": {},
   "outputs": [],
   "source": [
    "# Pydantic validation for a twitter post and username\n",
    "class TwitterValidation(BaseModel):\n",
    "    username: str = Field(..., min_length=5, max_length=10, pattern=r'^[A-Za-z0-9_]+$')\n",
    "    email: EmailStr = Field(...,)\n",
    "    postlength: str = Field(...,min_length=2, max_length=300)\n",
    "    "
   ]
  },
  {
   "cell_type": "code",
   "execution_count": 3,
   "id": "b3d0f142",
   "metadata": {},
   "outputs": [],
   "source": [
    "def demo_username_post_validation():\n",
    "    print(\"\\n Username - Post - Validation\")\n",
    "    try:\n",
    "        TwitterValidation(username= \"naeema\",email= \"naeemaadenike@gmail.com\",postlength= \"240\")\n",
    "    except ValidationError as e:\n",
    "        print(e)"
   ]
  },
  {
   "cell_type": "code",
   "execution_count": 4,
   "id": "6220f0bc",
   "metadata": {},
   "outputs": [
    {
     "data": {
      "text/plain": [
       "<function __main__.demo_username_post_validation()>"
      ]
     },
     "execution_count": 4,
     "metadata": {},
     "output_type": "execute_result"
    }
   ],
   "source": [
    "demo_username_post_validation"
   ]
  }
 ],
 "metadata": {
  "kernelspec": {
   "display_name": "my_venv (3.13.9)",
   "language": "python",
   "name": "python3"
  },
  "language_info": {
   "codemirror_mode": {
    "name": "ipython",
    "version": 3
   },
   "file_extension": ".py",
   "mimetype": "text/x-python",
   "name": "python",
   "nbconvert_exporter": "python",
   "pygments_lexer": "ipython3",
   "version": "3.13.9"
  }
 },
 "nbformat": 4,
 "nbformat_minor": 5
}
